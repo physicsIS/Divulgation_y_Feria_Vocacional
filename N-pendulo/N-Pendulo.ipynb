{
 "cells": [
  {
   "cell_type": "markdown",
   "id": "ddada34a",
   "metadata": {},
   "source": [
    "# Péndulo doble\n",
    "Se va a empezar a resolver el problema del péndulo doble. Se establecen las condiciones base que serían una cuerda que se mantiene a longitud constante y dos masas puntuales de misma magnitud. Por lo tanto, se tienen que definir las posiciones en el sistema de coordenadas.\n",
    "$$\n",
    "r_{1} = L_{1} \\cdot (sin(\\theta _{1}), cos(\\theta _{1})) \\\\\n",
    "r_{2} = r_{1} + L_{2} \\cdot (sin(\\theta _{2}), cos(\\theta _{2}))\n",
    "$$\n",
    "\n",
    "Donde los ángulos son los creados con el punto de inicio de la cuerda, en el caso de la primera masa sería el techo y en el de la segunda sería con respecto el final de la primera masa. "
   ]
  },
  {
   "cell_type": "markdown",
   "id": "adfebf52",
   "metadata": {},
   "source": [
    "## Energía cinética del sistema\n",
    "La energía cinética del sistema seguiría el siguiente formato:\n",
    "$$\n",
    "k_{1} = \\frac{1}{2} m {v_{1}}^{2} \\\\\n",
    "k_{2} = \\frac{1}{2} m {v_{2}}^{2} \n",
    "$$\n",
    "Donde se definen las velocidades como la derivada con respecto al tiempo de la posición de cada objeto. Importante mencionar que la energía cinética queda como una sola expresión debido al producto punto."
   ]
  },
  {
   "cell_type": "markdown",
   "id": "16991185",
   "metadata": {},
   "source": [
    "## Energía potencial del sistema\n",
    "La energía potencial del sistema seguiría el siguiente formato:\n",
    "$$\n",
    "U_{1} = L_{1} \\cdot cos(\\theta _{1}) \\cdot m \\cdot g \\\\\n",
    "U_{2} = (L_{1} \\cdot cos(\\theta _{1}) + L_{2} \\cdot cos(\\theta _{2})) \\cdot m \\cdot g \n",
    "$$"
   ]
  },
  {
   "cell_type": "markdown",
   "id": "60b16449",
   "metadata": {},
   "source": [
    "## Lagrangiano del sistema\n",
    "Se va a buscar plantear la ecuación de movimiento con base en el Lagrangiano del sistema y las derivadas, en este caso se va a definir como $$ L = T - U $$, donde T es la energía traslacional del sistema."
   ]
  },
  {
   "cell_type": "code",
   "execution_count": 278,
   "id": "728bbafb",
   "metadata": {},
   "outputs": [],
   "source": [
    "import sympy as smp\n",
    "import numpy as np\n",
    "import matplotlib.pyplot as plt\n",
    "import matplotlib.animation as plt_animation\n",
    "import scipy as sp\n",
    "import scienceplots\n",
    "from scipy.integrate import odeint"
   ]
  },
  {
   "cell_type": "code",
   "execution_count": 279,
   "id": "134cba5a",
   "metadata": {},
   "outputs": [],
   "source": [
    "m1,m2, L1, L2, t, g = smp.symbols(r'm_1,m_2, L_1, L_2, t, g')\n",
    "x, y, theta1, theta2 = smp.symbols(r'x, y, \\theta_1 , \\theta_2', cls = smp.Function)\n",
    "x = x(t)\n",
    "y = y(t)\n",
    "theta1 = theta1(t)\n",
    "theta2 = theta2(t)\n",
    "theta1_ddot = smp.diff(theta1,t,t)\n",
    "theta2_ddot = smp.diff(theta2,t,t)"
   ]
  },
  {
   "cell_type": "code",
   "execution_count": 280,
   "id": "2136e9c6",
   "metadata": {},
   "outputs": [],
   "source": [
    "# Velocidad cuadrada de cada objeto\n",
    "def squared_velocity(position_x, position_y):\n",
    "    return smp.diff(position_x,t)**2 + smp.diff(position_y,t)**2"
   ]
  },
  {
   "cell_type": "code",
   "execution_count": 281,
   "id": "d16931c0",
   "metadata": {},
   "outputs": [],
   "source": [
    "# Objeto 1\n",
    "x1 = L1*smp.sin(theta1)\n",
    "y1 = -L1*smp.cos(theta1)\n",
    "k1 = smp.Rational(1,2)*m1*squared_velocity(x1,y1)\n",
    "U1 = m1*y1*g\n",
    "\n",
    "# Objeto 2\n",
    "x2 = x1 + L2*smp.sin(theta2)\n",
    "y2 = y1 - L2*smp.cos(theta2)\n",
    "k2 = smp.Rational(1,2)*m2*squared_velocity(x2,y2)\n",
    "U2 = m2*y2*g"
   ]
  },
  {
   "cell_type": "code",
   "execution_count": 282,
   "id": "976cd545",
   "metadata": {},
   "outputs": [
    {
     "data": {
      "text/latex": [
       "$\\displaystyle L_{1} g m_{1} \\cos{\\left(\\theta_{1}{\\left(t \\right)} \\right)} - g m_{2} \\left(- L_{1} \\cos{\\left(\\theta_{1}{\\left(t \\right)} \\right)} - L_{2} \\cos{\\left(\\theta_{2}{\\left(t \\right)} \\right)}\\right) + \\frac{m_{1} \\left(L_{1}^{2} \\sin^{2}{\\left(\\theta_{1}{\\left(t \\right)} \\right)} \\left(\\frac{d}{d t} \\theta_{1}{\\left(t \\right)}\\right)^{2} + L_{1}^{2} \\cos^{2}{\\left(\\theta_{1}{\\left(t \\right)} \\right)} \\left(\\frac{d}{d t} \\theta_{1}{\\left(t \\right)}\\right)^{2}\\right)}{2} + \\frac{m_{2} \\left(\\left(L_{1} \\sin{\\left(\\theta_{1}{\\left(t \\right)} \\right)} \\frac{d}{d t} \\theta_{1}{\\left(t \\right)} + L_{2} \\sin{\\left(\\theta_{2}{\\left(t \\right)} \\right)} \\frac{d}{d t} \\theta_{2}{\\left(t \\right)}\\right)^{2} + \\left(L_{1} \\cos{\\left(\\theta_{1}{\\left(t \\right)} \\right)} \\frac{d}{d t} \\theta_{1}{\\left(t \\right)} + L_{2} \\cos{\\left(\\theta_{2}{\\left(t \\right)} \\right)} \\frac{d}{d t} \\theta_{2}{\\left(t \\right)}\\right)^{2}\\right)}{2}$"
      ],
      "text/plain": [
       "L_1*g*m_1*cos(\\theta_1(t)) - g*m_2*(-L_1*cos(\\theta_1(t)) - L_2*cos(\\theta_2(t))) + m_1*(L_1**2*sin(\\theta_1(t))**2*Derivative(\\theta_1(t), t)**2 + L_1**2*cos(\\theta_1(t))**2*Derivative(\\theta_1(t), t)**2)/2 + m_2*((L_1*sin(\\theta_1(t))*Derivative(\\theta_1(t), t) + L_2*sin(\\theta_2(t))*Derivative(\\theta_2(t), t))**2 + (L_1*cos(\\theta_1(t))*Derivative(\\theta_1(t), t) + L_2*cos(\\theta_2(t))*Derivative(\\theta_2(t), t))**2)/2"
      ]
     },
     "execution_count": 282,
     "metadata": {},
     "output_type": "execute_result"
    }
   ],
   "source": [
    "L = k1+k2 - (U1 + U2)\n",
    "L"
   ]
  },
  {
   "cell_type": "code",
   "execution_count": 283,
   "id": "6edc4e8b",
   "metadata": {},
   "outputs": [
    {
     "data": {
      "text/latex": [
       "$\\displaystyle \\frac{L_{1}^{2} m_{1} \\left(\\frac{d}{d t} \\theta_{1}{\\left(t \\right)}\\right)^{2}}{2} + L_{1} g m_{1} \\cos{\\left(\\theta_{1}{\\left(t \\right)} \\right)} + g m_{2} \\left(L_{1} \\cos{\\left(\\theta_{1}{\\left(t \\right)} \\right)} + L_{2} \\cos{\\left(\\theta_{2}{\\left(t \\right)} \\right)}\\right) + \\frac{m_{2} \\left(L_{1}^{2} \\left(\\frac{d}{d t} \\theta_{1}{\\left(t \\right)}\\right)^{2} + 2 L_{1} L_{2} \\cos{\\left(\\theta_{1}{\\left(t \\right)} - \\theta_{2}{\\left(t \\right)} \\right)} \\frac{d}{d t} \\theta_{1}{\\left(t \\right)} \\frac{d}{d t} \\theta_{2}{\\left(t \\right)} + L_{2}^{2} \\left(\\frac{d}{d t} \\theta_{2}{\\left(t \\right)}\\right)^{2}\\right)}{2}$"
      ],
      "text/plain": [
       "L_1**2*m_1*Derivative(\\theta_1(t), t)**2/2 + L_1*g*m_1*cos(\\theta_1(t)) + g*m_2*(L_1*cos(\\theta_1(t)) + L_2*cos(\\theta_2(t))) + m_2*(L_1**2*Derivative(\\theta_1(t), t)**2 + 2*L_1*L_2*cos(\\theta_1(t) - \\theta_2(t))*Derivative(\\theta_1(t), t)*Derivative(\\theta_2(t), t) + L_2**2*Derivative(\\theta_2(t), t)**2)/2"
      ]
     },
     "execution_count": 283,
     "metadata": {},
     "output_type": "execute_result"
    }
   ],
   "source": [
    "L = L.simplify()\n",
    "L"
   ]
  },
  {
   "cell_type": "markdown",
   "id": "945070ab",
   "metadata": {},
   "source": [
    "## Ecuación de Euler-Lagrange\n",
    "La ecuación se define cómo:\n",
    "$$\n",
    "\\frac{d}{dt} \\frac{\\partial L}{\\partial \\dot{q_{i}}} - \\frac{\\partial L}{\\partial q_{i}} = 0\n",
    "$$\n",
    "Con una sumatoria en la notación de Einstein, por lo tanto se tiene que plantear para que theta que se ha usado, en este caso solo 2.\n"
   ]
  },
  {
   "cell_type": "markdown",
   "id": "ad81b306",
   "metadata": {},
   "source": [
    "## Ángulo 1\n",
    "$$\n",
    "\\frac{d}{dt} \\frac{\\partial L}{\\partial \\dot{\\theta}_{1}} - \\frac{\\partial L}{\\partial \\theta_{1}} = 0\n",
    "$$"
   ]
  },
  {
   "cell_type": "code",
   "execution_count": 284,
   "id": "8f2e09a5",
   "metadata": {},
   "outputs": [],
   "source": [
    "# Derivada del Lagrangiano con respecto theta1 prima\n",
    "dLtheta1_prim = smp.diff(L,smp.diff(theta1,t)).simplify()\n",
    "# Derivada de la expresión anterior con respecto el tiempo\n",
    "ddLdttheta1_prim = smp.diff(dLtheta1_prim,t).simplify()\n",
    "# Derivada del Lagrangiano con respecto theta1\n",
    "dLdtheta1 = smp.diff(L,theta1).simplify()"
   ]
  },
  {
   "cell_type": "code",
   "execution_count": 285,
   "id": "312c7a6b",
   "metadata": {},
   "outputs": [
    {
     "data": {
      "text/latex": [
       "$\\displaystyle L_{1} \\left(L_{1} m_{1} \\frac{d^{2}}{d t^{2}} \\theta_{1}{\\left(t \\right)} + L_{1} m_{2} \\frac{d^{2}}{d t^{2}} \\theta_{1}{\\left(t \\right)} + L_{2} m_{2} \\sin{\\left(\\theta_{1}{\\left(t \\right)} - \\theta_{2}{\\left(t \\right)} \\right)} \\left(\\frac{d}{d t} \\theta_{2}{\\left(t \\right)}\\right)^{2} + L_{2} m_{2} \\cos{\\left(\\theta_{1}{\\left(t \\right)} - \\theta_{2}{\\left(t \\right)} \\right)} \\frac{d^{2}}{d t^{2}} \\theta_{2}{\\left(t \\right)} + g m_{1} \\sin{\\left(\\theta_{1}{\\left(t \\right)} \\right)} + g m_{2} \\sin{\\left(\\theta_{1}{\\left(t \\right)} \\right)}\\right)$"
      ],
      "text/plain": [
       "L_1*(L_1*m_1*Derivative(\\theta_1(t), (t, 2)) + L_1*m_2*Derivative(\\theta_1(t), (t, 2)) + L_2*m_2*sin(\\theta_1(t) - \\theta_2(t))*Derivative(\\theta_2(t), t)**2 + L_2*m_2*cos(\\theta_1(t) - \\theta_2(t))*Derivative(\\theta_2(t), (t, 2)) + g*m_1*sin(\\theta_1(t)) + g*m_2*sin(\\theta_1(t)))"
      ]
     },
     "execution_count": 285,
     "metadata": {},
     "output_type": "execute_result"
    }
   ],
   "source": [
    "# Se plantea la ecuación de Euler-Lagrange como tal\n",
    "eq_theta1 = (ddLdttheta1_prim - dLdtheta1).simplify()\n",
    "eq_theta1"
   ]
  },
  {
   "cell_type": "markdown",
   "id": "6df8b599",
   "metadata": {},
   "source": [
    "## Ángulo 2\n",
    "$$\n",
    "\\frac{d}{dt} \\frac{\\partial L}{\\partial \\dot{\\theta}_{2}} - \\frac{\\partial L}{\\partial \\theta_{2}} = 0\n",
    "$$"
   ]
  },
  {
   "cell_type": "code",
   "execution_count": 286,
   "id": "a7ad2805",
   "metadata": {},
   "outputs": [],
   "source": [
    "# Derivada del Lagrangiano con respecto theta2 prima\n",
    "dLtheta2_prim = smp.diff(L,smp.diff(theta2,t)).simplify()\n",
    "# Derivada de la expresión anterior con respecto el tiempo\n",
    "ddLdttheta2_prim = smp.diff(dLtheta2_prim,t).simplify()\n",
    "ddLdttheta2_prim\n",
    "# Derivada del Lagrangiano con respecto theta1\n",
    "dLdtheta2 = smp.diff(L,theta2).simplify()"
   ]
  },
  {
   "cell_type": "code",
   "execution_count": 287,
   "id": "8fca2042",
   "metadata": {},
   "outputs": [
    {
     "data": {
      "text/latex": [
       "$\\displaystyle L_{2} m_{2} \\left(- L_{1} \\sin{\\left(\\theta_{1}{\\left(t \\right)} - \\theta_{2}{\\left(t \\right)} \\right)} \\left(\\frac{d}{d t} \\theta_{1}{\\left(t \\right)}\\right)^{2} + L_{1} \\cos{\\left(\\theta_{1}{\\left(t \\right)} - \\theta_{2}{\\left(t \\right)} \\right)} \\frac{d^{2}}{d t^{2}} \\theta_{1}{\\left(t \\right)} + L_{2} \\frac{d^{2}}{d t^{2}} \\theta_{2}{\\left(t \\right)} + g \\sin{\\left(\\theta_{2}{\\left(t \\right)} \\right)}\\right)$"
      ],
      "text/plain": [
       "L_2*m_2*(-L_1*sin(\\theta_1(t) - \\theta_2(t))*Derivative(\\theta_1(t), t)**2 + L_1*cos(\\theta_1(t) - \\theta_2(t))*Derivative(\\theta_1(t), (t, 2)) + L_2*Derivative(\\theta_2(t), (t, 2)) + g*sin(\\theta_2(t)))"
      ]
     },
     "execution_count": 287,
     "metadata": {},
     "output_type": "execute_result"
    }
   ],
   "source": [
    "# Se plantea la ecuación de Euler-Lagrange como tal\n",
    "eq_theta2 = (ddLdttheta2_prim - dLdtheta2).simplify()\n",
    "eq_theta2"
   ]
  },
  {
   "cell_type": "code",
   "execution_count": 288,
   "id": "f6169608",
   "metadata": {},
   "outputs": [],
   "source": [
    "sol = smp.solve([eq_theta1,eq_theta2], (theta1_ddot,theta2_ddot)) "
   ]
  },
  {
   "cell_type": "code",
   "execution_count": 289,
   "id": "57bb8290",
   "metadata": {},
   "outputs": [
    {
     "data": {
      "text/latex": [
       "$\\displaystyle \\frac{- \\frac{L_{1} m_{2} \\sin{\\left(2 \\theta_{1}{\\left(t \\right)} - 2 \\theta_{2}{\\left(t \\right)} \\right)} \\left(\\frac{d}{d t} \\theta_{1}{\\left(t \\right)}\\right)^{2}}{2} - L_{2} m_{2} \\sin{\\left(\\theta_{1}{\\left(t \\right)} - \\theta_{2}{\\left(t \\right)} \\right)} \\left(\\frac{d}{d t} \\theta_{2}{\\left(t \\right)}\\right)^{2} - g m_{1} \\sin{\\left(\\theta_{1}{\\left(t \\right)} \\right)} - \\frac{g m_{2} \\sin{\\left(\\theta_{1}{\\left(t \\right)} - 2 \\theta_{2}{\\left(t \\right)} \\right)}}{2} - \\frac{g m_{2} \\sin{\\left(\\theta_{1}{\\left(t \\right)} \\right)}}{2}}{L_{1} \\left(m_{1} - m_{2} \\cos^{2}{\\left(\\theta_{1}{\\left(t \\right)} - \\theta_{2}{\\left(t \\right)} \\right)} + m_{2}\\right)}$"
      ],
      "text/plain": [
       "(-L_1*m_2*sin(2*\\theta_1(t) - 2*\\theta_2(t))*Derivative(\\theta_1(t), t)**2/2 - L_2*m_2*sin(\\theta_1(t) - \\theta_2(t))*Derivative(\\theta_2(t), t)**2 - g*m_1*sin(\\theta_1(t)) - g*m_2*sin(\\theta_1(t) - 2*\\theta_2(t))/2 - g*m_2*sin(\\theta_1(t))/2)/(L_1*(m_1 - m_2*cos(\\theta_1(t) - \\theta_2(t))**2 + m_2))"
      ]
     },
     "execution_count": 289,
     "metadata": {},
     "output_type": "execute_result"
    }
   ],
   "source": [
    "sol_theta1 = sol[theta1_ddot].simplify()\n",
    "sol_theta1"
   ]
  },
  {
   "cell_type": "code",
   "execution_count": 290,
   "id": "12a81894",
   "metadata": {},
   "outputs": [
    {
     "data": {
      "text/latex": [
       "$\\displaystyle \\frac{L_{1} m_{1} \\sin{\\left(\\theta_{1}{\\left(t \\right)} - \\theta_{2}{\\left(t \\right)} \\right)} \\left(\\frac{d}{d t} \\theta_{1}{\\left(t \\right)}\\right)^{2} + L_{1} m_{2} \\sin{\\left(\\theta_{1}{\\left(t \\right)} - \\theta_{2}{\\left(t \\right)} \\right)} \\left(\\frac{d}{d t} \\theta_{1}{\\left(t \\right)}\\right)^{2} + \\frac{L_{2} m_{2} \\sin{\\left(2 \\theta_{1}{\\left(t \\right)} - 2 \\theta_{2}{\\left(t \\right)} \\right)} \\left(\\frac{d}{d t} \\theta_{2}{\\left(t \\right)}\\right)^{2}}{2} + \\frac{g m_{1} \\sin{\\left(2 \\theta_{1}{\\left(t \\right)} - \\theta_{2}{\\left(t \\right)} \\right)}}{2} - \\frac{g m_{1} \\sin{\\left(\\theta_{2}{\\left(t \\right)} \\right)}}{2} + \\frac{g m_{2} \\sin{\\left(2 \\theta_{1}{\\left(t \\right)} - \\theta_{2}{\\left(t \\right)} \\right)}}{2} - \\frac{g m_{2} \\sin{\\left(\\theta_{2}{\\left(t \\right)} \\right)}}{2}}{L_{2} \\left(m_{1} - m_{2} \\cos^{2}{\\left(\\theta_{1}{\\left(t \\right)} - \\theta_{2}{\\left(t \\right)} \\right)} + m_{2}\\right)}$"
      ],
      "text/plain": [
       "(L_1*m_1*sin(\\theta_1(t) - \\theta_2(t))*Derivative(\\theta_1(t), t)**2 + L_1*m_2*sin(\\theta_1(t) - \\theta_2(t))*Derivative(\\theta_1(t), t)**2 + L_2*m_2*sin(2*\\theta_1(t) - 2*\\theta_2(t))*Derivative(\\theta_2(t), t)**2/2 + g*m_1*sin(2*\\theta_1(t) - \\theta_2(t))/2 - g*m_1*sin(\\theta_2(t))/2 + g*m_2*sin(2*\\theta_1(t) - \\theta_2(t))/2 - g*m_2*sin(\\theta_2(t))/2)/(L_2*(m_1 - m_2*cos(\\theta_1(t) - \\theta_2(t))**2 + m_2))"
      ]
     },
     "execution_count": 290,
     "metadata": {},
     "output_type": "execute_result"
    }
   ],
   "source": [
    "sol_theta2 = sol[theta2_ddot].simplify()\n",
    "sol_theta2"
   ]
  },
  {
   "cell_type": "code",
   "execution_count": 291,
   "id": "d8b5e07b",
   "metadata": {},
   "outputs": [],
   "source": [
    "theta1_dot = smp.diff(theta1,t)\n",
    "theta2_dot = smp.diff(theta2,t)"
   ]
  },
  {
   "cell_type": "code",
   "execution_count": 292,
   "id": "54f94b10",
   "metadata": {},
   "outputs": [],
   "source": [
    "sol_theta1_num = smp.lambdify([t,g,L1,L2,m1,m2,theta1,theta1_dot,theta2,theta2_dot],sol_theta1)"
   ]
  },
  {
   "cell_type": "code",
   "execution_count": 293,
   "id": "25a1b0b3",
   "metadata": {},
   "outputs": [],
   "source": [
    "sol_theta2_num = smp.lambdify([t,g,L1,L2,m1,m2,theta1,theta1_dot,theta2,theta2_dot],sol_theta2)"
   ]
  },
  {
   "cell_type": "code",
   "execution_count": 294,
   "id": "b8000b02",
   "metadata": {},
   "outputs": [],
   "source": [
    "theta1_dot_num = smp.lambdify([theta1_dot], theta1_dot)\n",
    "theta2_dot_num = smp.lambdify([theta2_dot], theta2_dot)"
   ]
  },
  {
   "cell_type": "markdown",
   "id": "80024369",
   "metadata": {},
   "source": [
    "## Condiciones iniciales del sistema"
   ]
  },
  {
   "cell_type": "code",
   "execution_count": 295,
   "id": "4c5318ff",
   "metadata": {},
   "outputs": [],
   "source": [
    "# Cuerpo 1\n",
    "m1_num = 2\n",
    "L1_n = 2 # Longitud de la cuerda\n",
    "theta1_0 = 5 # Angulo pequeño inicial\n",
    "omega1_0 = 0 # Frecuencia angular inicial (theta punto)\n",
    "\n",
    "# Cuerpo 2\n",
    "m2_num = 1\n",
    "L2_n = 3 # Largo de la cuerda 2\n",
    "theta2_0 = 10 # Angulo inicial, mismo angulo ara simplificar la solucion\n",
    "omega2_0 = 0 # Frecuencia angular inicial (theta punto)\n",
    "\n",
    "# Constantes generales\n",
    "g_num = 9.81 # gravedad\n",
    "\n",
    "# Periodo de tiempo\n",
    "t_n = np.linspace(0,40,1001) # Un minuto con espaciado de un segundo"
   ]
  },
  {
   "cell_type": "code",
   "execution_count": 296,
   "id": "efc13cdc",
   "metadata": {},
   "outputs": [],
   "source": [
    "# Se va a resolver el sistema con ODEINT de scipy, entonces se necesita usar una funcion que genere la derivada\n",
    "def derivative(S, t,g,L1,L2,m1,m2):\n",
    "    [theta1, omega1, theta2, omega2] = S\n",
    "    return [theta1_dot_num(omega1), \n",
    "            sol_theta1_num(t,g,L1,L2,m1,m2,theta1,omega1, theta2, omega2),\n",
    "            theta2_dot_num(omega2), \n",
    "            sol_theta2_num(t,g,L1,L2,m1,m2,theta1,omega1, theta2, omega2)]"
   ]
  },
  {
   "cell_type": "code",
   "execution_count": 297,
   "id": "c6a566d0",
   "metadata": {},
   "outputs": [],
   "source": [
    "final_sol = odeint(derivative, y0=[theta1_0, omega1_0, theta2_0, omega2_0], t = t_n, args = (g_num, L1_n, L2_n, m1_num, m2_num))"
   ]
  },
  {
   "cell_type": "code",
   "execution_count": 298,
   "id": "62c80b3d",
   "metadata": {},
   "outputs": [
    {
     "data": {
      "text/plain": [
       "(array([5.        , 5.00365785, 5.0146167 , ..., 5.81601296, 5.85218015,\n",
       "        5.8869861 ]),\n",
       " array([10.        , 10.00073579, 10.00299683, ..., 22.2786039 ,\n",
       "        22.39745513, 22.51839665]))"
      ]
     },
     "execution_count": 298,
     "metadata": {},
     "output_type": "execute_result"
    }
   ],
   "source": [
    "theta1_num = final_sol.T[0]\n",
    "theta2_num = final_sol.T[2]\n",
    "final_sol.T[0],final_sol.T[2]"
   ]
  },
  {
   "cell_type": "code",
   "execution_count": 299,
   "id": "f854f0e0",
   "metadata": {},
   "outputs": [],
   "source": [
    "def get_x1y1x2y2(t_n,th1,th2, L1,L2):\n",
    "    return (L1*np.sin(th1),\n",
    "            -L1*np.cos(th1),\n",
    "            L1*np.sin(th1) + L2*np.sin(th2),\n",
    "            -L1*np.cos(th1)-L2*np.cos(th2))\n",
    "\n",
    "x1_n , y1_n, x2_n , y2_n = get_x1y1x2y2(t_n,theta1_num, theta2_num, L1_n, L2_n) "
   ]
  },
  {
   "cell_type": "code",
   "execution_count": 300,
   "id": "208aadef",
   "metadata": {
    "scrolled": true
   },
   "outputs": [
    {
     "data": {
      "image/png": "[encoded data removed]",
      "text/plain": [
       "<Figure size 800x800 with 1 Axes>"
      ]
     },
     "metadata": {},
     "output_type": "display_data"
    }
   ],
   "source": [
    "def animete(i):\n",
    "    ln1.set_data([0, x1_n[i],x2_n[i]], [0, y1_n[i], y2_n[i]])\n",
    "    time_text.set_text('t={:.2f}'.format(i/len(t_n[t_n<1])))\n",
    "\n",
    "plt.style.use([\"default\"])\n",
    "fig, ax = plt.subplots(1,1, figsize = (8,8))\n",
    "ax.set_title('Simulación con Scipy')\n",
    "ax.grid()\n",
    "ln1, = plt.plot([],[], 'ro--', lw = 3)\n",
    "time_text = ax.text(5,6,'',fontsize = 15 , bbox=dict(facecolor = 'white', edgecolor = \"black\"))\n",
    "ax.set_xlabel(\"Posición en X\")\n",
    "ax.set_ylabel(\"Posición en Y\")\n",
    "ax.set_ylim(-6,6)\n",
    "ax.set_xlim(-6,6)\n",
    "ani = plt_animation.FuncAnimation(fig, animete, frames = 1000, interval = 50)\n",
    "ani.save(\"double-pendulum-MS-B.gif\",writer= \"pillow\", fps =len(t_n[t_n<1]))"
   ]
  },
  {
   "cell_type": "markdown",
   "id": "37899216",
   "metadata": {},
   "source": [
    "# POO\n",
    "Se va a volver a escribir el código en el paradigma de programación orientada a objetos."
   ]
  },
  {
   "cell_type": "code",
   "execution_count": 250,
   "id": "f613aeac",
   "metadata": {},
   "outputs": [],
   "source": [
    "class pendulum():\n",
    "    def __init__(self, length, mass, theta_0, omega_0,t):\n",
    "        self.L_num = length\n",
    "        self.m_num = mass\n",
    "        self.L = smp.symbols(f\"L_{id(self)}\")\n",
    "        self.m = smp.symbols(f\"m_{id(self)}\")\n",
    "        self.t = t\n",
    "        self.theta = smp.Function(f'theta_{id(self)}')(self.t)\n",
    "        self.omega = smp.Function(f'omega_{id(self)}')(self.t)\n",
    "    def relative_position(self):\n",
    "        # Nota: Esta es la posición con respecto la masa anterior, a la hora de expandirlo\n",
    "        # se tiene que sumar la posición de las masas anteriores\n",
    "        x = self.L*smp.sin(self.theta)\n",
    "        y = -self.L*smp.cos(self.theta)\n",
    "        return x,y"
   ]
  },
  {
   "cell_type": "code",
   "execution_count": 270,
   "id": "7803c1af",
   "metadata": {},
   "outputs": [],
   "source": [
    "class N_pendulum_system():\n",
    "    def __init__(self, g = 9.81):\n",
    "        self.masses = [] # list of all the instances of class Pendulum\n",
    "        self.g_num = g  # gravity\n",
    "        self.g = smp.symbols(r\"g\")\n",
    "        \n",
    "    def add_mass(self, length, mass, theta_0, omega_0,t):\n",
    "        self.masses.append(pendulum(length, mass, theta_0, omega_0,t))\n",
    "        \n",
    "    def lagrangian(self):\n",
    "        kinetic = 0\n",
    "        potential = 0\n",
    "        position_x = 0\n",
    "        position_y = 0\n",
    "        for mass in self.masses:\n",
    "            temp_x, temp_y = mass.relative_position() \n",
    "            position_x += temp_x\n",
    "            position_y += temp_y\n",
    "            kinetic += smp.Rational(1,2)*mass.m*(smp.diff(position_x,mass.t)**2 + smp.diff(position_y,mass.t)**2)\n",
    "            potential += position_y*mass.m*self.g\n",
    "        kinetic = kinetic.simplify()\n",
    "        potential = potential.simplify()\n",
    "        return (kinetic - potential).simplify()\n",
    "    \n",
    "    def euler_lagrange(self):\n",
    "        L = self.lagrangian()\n",
    "        equations = []\n",
    "        for mass in self.masses:\n",
    "            # Derivada del Lagrangiano con respecto theta2 prima\n",
    "            dLtheta_prim = smp.diff(L,smp.diff(mass.theta,mass.t)).simplify()\n",
    "            # Derivada de la expresión anterior con respecto el tiempo\n",
    "            ddLdttheta_prim = smp.diff(dLtheta_prim,mass.t).simplify()\n",
    "            # Derivada del Lagrangiano con respecto theta1\n",
    "            dLdtheta = smp.diff(L,mass.theta).simplify()\n",
    "            equations.append((ddLdttheta_prim - dLdtheta).simplify())\n",
    "        return equations\n",
    "    \n",
    "    def simulate(self,t_n,initial_conditions):\n",
    "        equations = self.euler_lagrange()\n",
    "        # Hay que establecer las segundas derivadas de los thetas en simbolos\n",
    "        thetas_ddot = [smp.diff(mass.theta,mass.t,mass.t) for mass in self.masses]\n",
    "        thetas_dot = [smp.diff(mass.theta,mass.t) for mass in self.masses]\n",
    "        gen_sol = smp.solve(equations, thetas_ddot, rational = False)\n",
    "        # Famous lambdify\n",
    "        num_solutions = []\n",
    "        for theta_ddot in thetas_ddot:\n",
    "            num_solutions.append(\n",
    "                smp.lambdify([self.masses[0].t] + [self.g] + \n",
    "                             [mass.theta for mass in self.masses] + \n",
    "                             [mass.L for mass in self.masses] + \n",
    "                             [mass.m for mass in self.masses] +\n",
    "                             [smp.diff(mass.theta,mass.t) for mass in self.masses], \n",
    "                             gen_sol[theta_ddot], modules=[\"numpy\"]))\n",
    "        # Definir la funcion de derivada\n",
    "        thetas_dot_num = [smp.lambdify([theta_dot], theta_dot) for theta_dot in thetas_dot]\n",
    "        def derivative(S, t, g, *mass_params):\n",
    "            # Split state vector into angles and angular velocities\n",
    "            n = int(len(mass_params)/2)\n",
    "            thetas = S[:n]\n",
    "            omegas = S[n:]\n",
    "            # Evaluate the accelerations\n",
    "            theta_ddots = [\n",
    "                f(\n",
    "                    t, g, *thetas, *mass_params, *omegas\n",
    "                ) \n",
    "                for f in num_solutions\n",
    "            ]\n",
    "            return [*omegas, *theta_ddots]\n",
    "        # Have to extract the values from the object mass in every element of masses\n",
    "        params = [mass.L_num for mass in self.masses] + [mass.m_num for mass in self.masses]\n",
    "        result = odeint(\n",
    "            derivative,\n",
    "            y0=initial_conditions,\n",
    "            t = t_n, \n",
    "            args = (self.g_num, *params))\n",
    "        return result"
   ]
  },
  {
   "cell_type": "code",
   "execution_count": 306,
   "id": "5556a36a",
   "metadata": {},
   "outputs": [],
   "source": [
    "# Create a system with three pendulums\n",
    "n_pendulum = N_pendulum_system()\n",
    "# Add pendulums to the system\n",
    "t = smp.symbols(r\"t\")\n",
    "n_pendulum.add_mass(2, 2, 5, 0,t)\n",
    "n_pendulum.add_mass(1, 1, 3, 0,t)\n",
    "n_pendulum.add_mass(1, 1, 5, 0,t)\n",
    "# Time for simulation\n",
    "t_n = np.linspace(0, 40, 1001)\n",
    "\n",
    "# Initial conditions: [theta1, theta2, omega1, omega2, ...]\n",
    "initial_conditions = [5, 3, 5, 0, 0, 0]\n",
    "# Simulate\n",
    "solution = n_pendulum.simulate(t_n, initial_conditions)"
   ]
  },
  {
   "cell_type": "code",
   "execution_count": 307,
   "id": "8596e6d7",
   "metadata": {},
   "outputs": [
    {
     "data": {
      "text/plain": [
       "array([[ 5.00000000e+00,  5.00392167e+00,  5.01568805e+00, ...,\n",
       "         7.19151596e+00,  7.05067246e+00,  6.91775551e+00],\n",
       "       [ 3.00000000e+00,  3.00230353e+00,  3.00939454e+00, ...,\n",
       "        -3.68262381e+01, -3.66640751e+01, -3.65771919e+01],\n",
       "       [ 5.00000000e+00,  5.00063849e+00,  5.00259681e+00, ...,\n",
       "        -5.60744335e+01, -5.57633181e+01, -5.54017823e+01],\n",
       "       [ 0.00000000e+00,  1.96089905e-01,  3.92241162e-01, ...,\n",
       "        -3.49491845e+00, -3.47640793e+00, -3.13707813e+00],\n",
       "       [ 0.00000000e+00,  1.15929450e-01,  2.40868027e-01, ...,\n",
       "         4.83299772e+00,  3.12793064e+00,  1.33222341e+00],\n",
       "       [ 0.00000000e+00,  3.21042407e-02,  6.63392497e-02, ...,\n",
       "         6.82995395e+00,  8.60650525e+00,  9.22661461e+00]])"
      ]
     },
     "execution_count": 307,
     "metadata": {},
     "output_type": "execute_result"
    }
   ],
   "source": [
    "solution.T"
   ]
  },
  {
   "cell_type": "code",
   "execution_count": 308,
   "id": "bd603374",
   "metadata": {},
   "outputs": [],
   "source": [
    "theta1_n = solution.T[0]\n",
    "z1_n = solution.T[2]\n",
    "theta2_n = solution.T[1]\n",
    "z2_n = solution.T[3]"
   ]
  },
  {
   "cell_type": "code",
   "execution_count": 304,
   "id": "a286a0fd",
   "metadata": {},
   "outputs": [],
   "source": [
    "def get_x1y1x2y2(t,th1,th2, L1,L2):\n",
    "    return (L1*np.sin(th1),\n",
    "            -L1*np.cos(th1),\n",
    "            L1*np.sin(th1) + L2*np.sin(th2),\n",
    "            -L1*np.cos(th1)-L2*np.cos(th2))\n",
    "\n",
    "x1_n , y1_n, x2_n , y2_n = get_x1y1x2y2(t_n, theta1_n, theta2_n, 2, 1) "
   ]
  },
  {
   "cell_type": "code",
   "execution_count": 305,
   "id": "6266a7e8",
   "metadata": {},
   "outputs": [
    {
     "data": {
      "image/png": "[encoded data removed]",
      "text/plain": [
       "<Figure size 800x800 with 1 Axes>"
      ]
     },
     "metadata": {},
     "output_type": "display_data"
    }
   ],
   "source": [
    "def animete(i):\n",
    "    ln1.set_data([0, x1_n[i],x2_n[i]], [0, y1_n[i], y2_n[i]])\n",
    "    time_text.set_text('t={:.2f}'.format(i/len(t_n[t_n<1])))\n",
    "\n",
    "plt.style.use([\"default\"])\n",
    "fig, ax = plt.subplots(1,1, figsize = (8,8))\n",
    "ax.set_title('Simulación con Scipy')\n",
    "ax.grid()\n",
    "ln1, = plt.plot([],[], 'ro--', lw = 3)\n",
    "time_text = ax.text(5,6,'',fontsize = 15 , bbox=dict(facecolor = 'white', edgecolor = \"black\"))\n",
    "ax.set_xlabel(\"Posición en X\")\n",
    "ax.set_ylabel(\"Posición en Y\")\n",
    "ax.set_ylim(-6,6)\n",
    "ax.set_xlim(-6,6)\n",
    "ani = plt_animation.FuncAnimation(fig, animete, frames = 1000, interval = 50)\n",
    "ani.save(\"test.gif\",writer= \"pillow\", fps =len(t_n[t_n<1]))"
   ]
  },
  {
   "cell_type": "code",
   "execution_count": null,
   "id": "136bf248",
   "metadata": {},
   "outputs": [],
   "source": []
  },
  {
   "cell_type": "code",
   "execution_count": null,
   "id": "51c9c0f8",
   "metadata": {},
   "outputs": [],
   "source": []
  }
 ],
 "metadata": {
  "kernelspec": {
   "display_name": "Python 3 (ipykernel)",
   "language": "python",
   "name": "python3"
  },
  "language_info": {
   "codemirror_mode": {
    "name": "ipython",
    "version": 3
   },
   "file_extension": ".py",
   "mimetype": "text/x-python",
   "name": "python",
   "nbconvert_exporter": "python",
   "pygments_lexer": "ipython3",
   "version": "3.12.3"
  }
 },
 "nbformat": 4,
 "nbformat_minor": 5
}
