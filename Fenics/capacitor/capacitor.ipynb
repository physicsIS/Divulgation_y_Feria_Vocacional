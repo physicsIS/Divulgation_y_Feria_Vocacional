{
 "cells": [
  {
   "cell_type": "markdown",
   "metadata": {},
   "source": [
    "# Capacitor de placas paralelas\n",
    "\n",
    "Ejemplo obtenido de: https://comphysblog.wordpress.com/2018/08/12/fenics-simple-2d-electrostatic-boundary-value-problems/\n",
    "\n",
    "Solo es el espacio dentro de las placas del capacitor"
   ]
  },
  {
   "cell_type": "code",
   "execution_count": 3,
   "metadata": {},
   "outputs": [
    {
     "name": "stdout",
     "output_type": "stream",
     "text": [
      "Calling FFC just-in-time (JIT) compiler, this may take some time.\n"
     ]
    },
    {
     "name": "stderr",
     "output_type": "stream",
     "text": [
      "/home/hernan-barquero/anaconda3/envs/finite_element/lib/python3.11/site-packages/dolfin/jit/jit.py:46: RuntimeWarning: mpi4py.MPI.Session size changed, may indicate binary incompatibility. Expected 32 from C header, got 40 from PyObject\n",
      "  if MPI.size(mpi_comm) == 1:\n"
     ]
    },
    {
     "name": "stdout",
     "output_type": "stream",
     "text": [
      "Calling FFC just-in-time (JIT) compiler, this may take some time.\n",
      "Calling FFC just-in-time (JIT) compiler, this may take some time.\n",
      "Calling FFC just-in-time (JIT) compiler, this may take some time.\n",
      "Calling FFC just-in-time (JIT) compiler, this may take some time.\n",
      "Calling FFC just-in-time (JIT) compiler, this may take some time.\n",
      "Solving linear variational problem.\n",
      "Calling FFC just-in-time (JIT) compiler, this may take some time.\n",
      "Calling FFC just-in-time (JIT) compiler, this may take some time.\n",
      "Calling FFC just-in-time (JIT) compiler, this may take some time.\n",
      "Calling FFC just-in-time (JIT) compiler, this may take some time.\n",
      "Calling FFC just-in-time (JIT) compiler, this may take some time.\n"
     ]
    },
    {
     "data": {
      "text/plain": [
       "<matplotlib.tri._tricontour.TriContourSet at 0x7a713c7d07d0>"
      ]
     },
     "execution_count": 3,
     "metadata": {},
     "output_type": "execute_result"
    },
    {
     "data": {
      "image/png": "[encoded data removed]",
      "text/plain": [
       "<Figure size 640x480 with 1 Axes>"
      ]
     },
     "metadata": {},
     "output_type": "display_data"
    }
   ],
   "source": [
    "import fenics as fn\n",
    "\n",
    "box_width = 400\n",
    "box_height = 50\n",
    "\n",
    "mesh = fn.RectangleMesh(fn.Point(0, 0),\n",
    "\t\tfn.Point(box_width, box_height),\n",
    "\t\t80, 10)\n",
    "\n",
    "V = fn.FunctionSpace(mesh, 'P', 1)\n",
    "\n",
    "vtk_file = fn.File('output/mesh.pvd')\n",
    "vtk_file << mesh\n",
    "\n",
    "v_1 = fn.Constant(5.0)\n",
    "v_0 = fn.Constant(1.0)\n",
    "\n",
    "def bottom_side(x, on_boundary):\n",
    "\tif fn.near(x[1], 0) and on_boundary:\n",
    "\t\treturn True\n",
    "\n",
    "def top_side(x, on_boundary):\n",
    "\tif fn.near(x[1], box_height) and on_boundary:\n",
    "\t\treturn True\n",
    "\n",
    "bot_bc = fn.DirichletBC(V, v_0, bottom_side)\n",
    "top_bc = fn.DirichletBC(V, v_1, top_side)\n",
    "bcs = [top_bc, bot_bc]\n",
    "\n",
    "u = fn.TrialFunction(V)\n",
    "v = fn.TestFunction(V)\n",
    "f = fn.Constant(0)\n",
    "a = fn.dot(fn.grad(u), fn.grad(v))*fn.dx\n",
    "L = f*v*fn.dx\n",
    "\n",
    "u = fn.Function(V)\n",
    "fn.solve(a == L, u, bcs)\n",
    "\n",
    "potential = fn.File('output/electric_potential.pvd')\n",
    "potential << u\n",
    "\n",
    "E = - fn.grad(u)\n",
    "field = fn.File('output/electric_field.pvd')\n",
    "field << fn.project(E)\n",
    "\n",
    "fn.plot(u)\n"
   ]
  },
  {
   "cell_type": "markdown",
   "metadata": {},
   "source": [
    "# Capacitor de placas paralelas con espacio exterior e interior\n",
    "\n",
    "Las placas del capacitor son muy delgadas"
   ]
  },
  {
   "cell_type": "code",
   "execution_count": 4,
   "metadata": {},
   "outputs": [
    {
     "name": "stdout",
     "output_type": "stream",
     "text": [
      "Solving linear variational problem.\n"
     ]
    },
    {
     "data": {
      "text/plain": [
       "<matplotlib.tri._tricontour.TriContourSet at 0x7a7136b02690>"
      ]
     },
     "execution_count": 4,
     "metadata": {},
     "output_type": "execute_result"
    },
    {
     "data": {
      "image/png": "[encoded data removed]",
      "text/plain": [
       "<Figure size 640x480 with 1 Axes>"
      ]
     },
     "metadata": {},
     "output_type": "display_data"
    }
   ],
   "source": [
    "box_width = 400\n",
    "box_height = 200\n",
    "\n",
    "mesh = fn.RectangleMesh(fn.Point(0, 0),\n",
    "\t\tfn.Point(box_width, box_height), \n",
    "\t\t400,200) # Estas dos entradas sirven para establecer la densidad del mallado\n",
    "\n",
    "#fn.plot(mesh)\t\t# Para ver el mallado\n",
    "\n",
    "\n",
    "V = fn.FunctionSpace(mesh, 'P', 1) # Funcion de espacio discreto\n",
    "\n",
    "vtk_file = fn.File('output2/mesh.pvd') \n",
    "vtk_file << mesh\n",
    "\n",
    "v_1 = fn.Constant(5.0) # Condicion de frontera placa superior\n",
    "v_0 = fn.Constant(1.0) # Condicion de frontera placa inferior\n",
    "\n",
    "tolerancia_maxima = 1e-3\n",
    "\n",
    "def bottom_side(x):\n",
    "\tif abs(x[1] - 30.0) < 1e-5:\n",
    "\t\tif abs(x[0]-tolerancia_maxima) >= 30.0 or abs(x[0]+tolerancia_maxima)>=30.0:\n",
    "\t\t\tif abs(x[0]-tolerancia_maxima) <= 370.0 or abs(x[0]+tolerancia_maxima)<=370.0:\n",
    "\t\t\t\treturn True\n",
    "\n",
    "def top_side(x):\n",
    "\tif abs(x[1] - (box_height - 30.0)) < 1e-5:\n",
    "\t\tif abs(x[0]-tolerancia_maxima) >= 30.0 or abs(x[0]+tolerancia_maxima)>=30.0:\n",
    "\t\t\tif abs(x[0]-tolerancia_maxima) <= 370.0 or abs(x[0]+tolerancia_maxima)<=370.0:\n",
    "\t\t\t\treturn True\n",
    "\n",
    "\n",
    "bot_bc = fn.DirichletBC(V, v_0, bottom_side)\n",
    "top_bc = fn.DirichletBC(V, v_1, top_side)\n",
    "bcs = [top_bc, bot_bc]\n",
    "\n",
    "u = fn.TrialFunction(V)\n",
    "v = fn.TestFunction(V)\n",
    "f = fn.Constant(0)\n",
    "a = fn.dot(fn.grad(u), fn.grad(v))*fn.dx\n",
    "L = f*v*fn.dx\n",
    "\n",
    "u = fn.Function(V)\n",
    "fn.solve(a == L, u, bcs)\n",
    "\n",
    "potential = fn.File('output2/electric_potential.pvd')\n",
    "potential << u\n",
    "\n",
    "E = - fn.grad(u)\n",
    "field = fn.File('output2/electric_field.pvd')\n",
    "field << fn.project(E)\n",
    "\n",
    "fn.plot(u)"
   ]
  },
  {
   "cell_type": "code",
   "execution_count": 5,
   "metadata": {},
   "outputs": [
    {
     "name": "stdout",
     "output_type": "stream",
     "text": [
      "Calling FFC just-in-time (JIT) compiler, this may take some time.\n",
      "Calling FFC just-in-time (JIT) compiler, this may take some time.\n",
      "Calling FFC just-in-time (JIT) compiler, this may take some time.\n",
      "Solving linear variational problem.\n",
      "Calling FFC just-in-time (JIT) compiler, this may take some time.\n",
      "Calling FFC just-in-time (JIT) compiler, this may take some time.\n"
     ]
    },
    {
     "data": {
      "text/plain": [
       "<matplotlib.tri._tricontour.TriContourSet at 0x7a7137f1f1d0>"
      ]
     },
     "execution_count": 5,
     "metadata": {},
     "output_type": "execute_result"
    },
    {
     "data": {
      "image/png": "[encoded data removed]",
      "text/plain": [
       "<Figure size 640x480 with 1 Axes>"
      ]
     },
     "metadata": {},
     "output_type": "display_data"
    }
   ],
   "source": [
    "box_width = 800\n",
    "box_height = 300\n",
    "\n",
    "mesh = fn.RectangleMesh(fn.Point(0, 0),\n",
    "\t\tfn.Point(box_width, box_height), \n",
    "\t\t600,600) # Estas dos entradas sirven para establecer la densidad del mallado\n",
    "\n",
    "#fn.plot(mesh)\t\t# Para ver el mallado\n",
    "\n",
    "\n",
    "V = fn.FunctionSpace(mesh, 'P', 2) # Funcion de espacio discreto\n",
    "\n",
    "vtk_file = fn.File('output2/mesh.pvd') \n",
    "vtk_file << mesh\n",
    "\n",
    "v_1 = fn.Constant(5.0) # Condicion de frontera placa superior\n",
    "v_0 = fn.Constant(1.0) # Condicion de frontera placa inferior\n",
    "\n",
    "tolerancia_maxima = 1e-3\n",
    "\n",
    "def bottom_side(x):\n",
    "\tif abs(x[1] - 60.0) < 15:\n",
    "\t\tif abs(x[0]-tolerancia_maxima) >= 130.0 or abs(x[0]+tolerancia_maxima)>=130.0:\n",
    "\t\t\tif abs(x[0]-tolerancia_maxima) <= box_width -130.0 or abs(x[0]+tolerancia_maxima)<=box_width -130.0:\n",
    "\t\t\t\treturn True\n",
    "\n",
    "def top_side(x):\n",
    "\tif abs(x[1] - (box_height - 60.0)) < 15:\n",
    "\t\tif abs(x[0]-tolerancia_maxima) >= 130.0 or abs(x[0]+tolerancia_maxima)>=130.0:\n",
    "\t\t\tif abs(x[0]-tolerancia_maxima) <= box_width -130.0 or abs(x[0]+tolerancia_maxima)<=box_width -130.0:\n",
    "\t\t\t\treturn True\n",
    "\n",
    "\n",
    "bot_bc = fn.DirichletBC(V, v_0, bottom_side)\n",
    "top_bc = fn.DirichletBC(V, v_1, top_side)\n",
    "bcs = [top_bc, bot_bc]\n",
    "\n",
    "u = fn.TrialFunction(V)\n",
    "v = fn.TestFunction(V)\n",
    "f = fn.Constant(0)\n",
    "a = fn.dot(fn.grad(u), fn.grad(v))*fn.dx\n",
    "L = f*v*fn.dx\n",
    "\n",
    "u = fn.Function(V)\n",
    "fn.solve(a == L, u, bcs)\n",
    "\n",
    "potential = fn.File('output2/electric_potential.pvd')\n",
    "potential << u\n",
    "\n",
    "E = - fn.grad(u)\n",
    "field = fn.File('output2/electric_field.pvd')\n",
    "field << fn.project(E)\n",
    "\n",
    "fn.plot(u)"
   ]
  },
  {
   "cell_type": "markdown",
   "metadata": {},
   "source": [
    "# Capacitor de placas paralelas en 3D"
   ]
  },
  {
   "cell_type": "code",
   "execution_count": 6,
   "metadata": {},
   "outputs": [
    {
     "name": "stdout",
     "output_type": "stream",
     "text": [
      "Calling FFC just-in-time (JIT) compiler, this may take some time.\n",
      "Calling FFC just-in-time (JIT) compiler, this may take some time.\n",
      "Calling FFC just-in-time (JIT) compiler, this may take some time.\n",
      "Calling FFC just-in-time (JIT) compiler, this may take some time.\n",
      "Calling FFC just-in-time (JIT) compiler, this may take some time.\n",
      "Calling FFC just-in-time (JIT) compiler, this may take some time.\n",
      "Solving linear variational problem.\n",
      "Calling FFC just-in-time (JIT) compiler, this may take some time.\n",
      "Calling FFC just-in-time (JIT) compiler, this may take some time.\n",
      "Calling FFC just-in-time (JIT) compiler, this may take some time.\n",
      "Calling FFC just-in-time (JIT) compiler, this may take some time.\n",
      "Calling FFC just-in-time (JIT) compiler, this may take some time.\n"
     ]
    }
   ],
   "source": [
    "from dolfin import *\n",
    "\n",
    "# Dimensiones de la caja (espacio de simulación)\n",
    "box_width = 400\n",
    "box_height = 200\n",
    "box_depth = 200  # Nueva dimensión en 3D\n",
    "\n",
    "# Crear la malla en 3D\n",
    "mesh = BoxMesh(Point(0, 0, 0), Point(box_width, box_height, box_depth), 40, 20, 20)\n",
    "\n",
    "V = FunctionSpace(mesh, 'P', 1)  # Espacio de funciones para el potencial\n",
    "\n",
    "# Condiciones de frontera (potenciales de las placas)\n",
    "v_1 = Constant(5.0)  # Potencial superior\n",
    "v_0 = Constant(1.0)  # Potencial inferior\n",
    "\n",
    "tolerancia_maxima = 1e-3\n",
    "\n",
    "def bottom_plate(x, on_boundary):\n",
    "    return near(x[2], 30.0, tolerancia_maxima) and (30.0 <= x[0] <= 370.0) and (30.0 <= x[1] <= 170.0)\n",
    "\n",
    "def top_plate(x, on_boundary):\n",
    "    return near(x[2], box_depth - 30.0, tolerancia_maxima) and (30.0 <= x[0] <= 370.0) and (30.0 <= x[1] <= 170.0)\n",
    "\n",
    "bot_bc = DirichletBC(V, v_0, bottom_plate)\n",
    "top_bc = DirichletBC(V, v_1, top_plate)\n",
    "bcs = [top_bc, bot_bc]\n",
    "\n",
    "\n",
    "u = TrialFunction(V)\n",
    "v = TestFunction(V)\n",
    "f = Constant(0)  # No hay cargas libres en el espacio\n",
    "\n",
    "a = dot(grad(u), grad(v)) * dx\n",
    "L = f * v * dx\n",
    "\n",
    "u = Function(V)\n",
    "solve(a == L, u, bcs)\n",
    "\n",
    "\n",
    "# Guardar el potencial eléctrico\n",
    "vtk_file = File('output3/electric_potential.pvd')\n",
    "vtk_file << u\n",
    "\n",
    "# Calcular el campo eléctrico\n",
    "E = -grad(u)\n",
    "W = VectorFunctionSpace(mesh, 'P', 1)  # Espacio de funciones vectorial\n",
    "E_proj = project(E, W)\n",
    "\n",
    "# Guardar el campo eléctrico\n",
    "field = File('output3/electric_field.pvd')\n",
    "field << E_proj"
   ]
  }
 ],
 "metadata": {
  "kernelspec": {
   "display_name": "finite_element",
   "language": "python",
   "name": "python3"
  },
  "language_info": {
   "codemirror_mode": {
    "name": "ipython",
    "version": 3
   },
   "file_extension": ".py",
   "mimetype": "text/x-python",
   "name": "python",
   "nbconvert_exporter": "python",
   "pygments_lexer": "ipython3",
   "version": "3.11.12"
  }
 },
 "nbformat": 4,
 "nbformat_minor": 2
}
