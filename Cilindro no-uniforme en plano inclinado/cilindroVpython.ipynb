{
 "cells": [
  {
   "cell_type": "code",
   "execution_count": 11,
   "id": "66848cee-e5d3-4e2c-a360-b7137703283e",
   "metadata": {},
   "outputs": [],
   "source": [
    "from vpython import canvas, box, sphere, cylinder, vector, rate, color, curve, arrow, label\n",
    "import numpy as np"
   ]
  },
  {
   "cell_type": "code",
   "execution_count": 13,
   "id": "fa3582b7-b664-4d64-82da-0604cc49e52a",
   "metadata": {},
   "outputs": [],
   "source": [
    "M = 1.0   \n",
    "m = 0.25  \n",
    "R = 1.0   \n",
    "g = 9.775  \n",
    "mu = 0.1  \n",
    "theta_grad = 30  \n",
    "theta_rad = np.radians(theta_grad)  \n",
    "theta_m_grad = 120\n",
    "theta_m_rad = np.radians(theta_m_grad) \n",
    "x_cm = (m * R * np.cos(theta_m_rad)) / (M + m)\n",
    "y_cm = (m * R * np.sin(theta_m_rad)) / (M + m)\n",
    "I = (1/2 * M * R**2) + (m * R**2) "
   ]
  },
  {
   "cell_type": "code",
   "execution_count": 15,
   "id": "7294e548-f2bd-4d76-b6de-e7201c346382",
   "metadata": {},
   "outputs": [],
   "source": [
    "def rk4(func, t, y, h):\n",
    "    k1 = func(t, y)\n",
    "    k2 = func(t + h / 2, y + h * k1 / 2)\n",
    "    k3 = func(t + h / 2, y + h * k2 / 2)\n",
    "    k4 = func(t + h, y + h * k3)\n",
    "    return y + h * (k1 + 2 * k2 + 2 * k3 + k4) / 6\n",
    "\n",
    "\n",
    "def dynamics(t, y):\n",
    "    x, v, phi, omega = y \n",
    "\n",
    "    \n",
    "    gravedad = (M + m) * g * np.sin(theta_rad)  \n",
    "    normal = (M + m) * g * np.cos(theta_rad)  \n",
    "    friccion= mu * normal  \n",
    "\n",
    "    torque_g = (M + m) * g * (x_cm**2 + y_cm**2) * np.sin(theta_m_rad)\n",
    "\n",
    "    torque_friccion =  mu * normal * R  \n",
    "\n",
    "   \n",
    "    f_neta = -gravedad + friccion + torque_g/(x_cm**2 + y_cm**2)\n",
    "\n",
    "    a = f_neta / (M + m)\n",
    "    torque_neto = torque_g - torque_friccion  \n",
    "    alpha = torque_neto / I \n",
    "\n",
    "    return np.array([v, a, omega, alpha])\n",
    "\n",
    "\n",
    "\n",
    "  \n",
    "\n",
    "\n"
   ]
  },
  {
   "cell_type": "code",
   "execution_count": 17,
   "id": "ea69579b-e096-46e7-ade7-3673a61a38f5",
   "metadata": {},
   "outputs": [],
   "source": [
    "x0 = 0.0 \n",
    "v0 = 0.0  \n",
    "phi0 = 0.0  \n",
    "omega0 = 0.0 \n",
    "y0 = np.array([x0, v0, phi0, omega0])\n",
    "\n",
    "times = (0, 10)  \n",
    "h = 0.01  \n",
    "t_values = np.arange(times[0], times[1], h)\n",
    "solucion = []\n",
    "Y = y0\n",
    "\n",
    "\n",
    "for t in t_values:\n",
    "    solucion.append(Y)\n",
    "    Y = rk4(dynamics, t, Y, h)\n",
    "\n",
    "solucion = np.array(solucion)"
   ]
  },
  {
   "cell_type": "code",
   "execution_count": 23,
   "id": "a39bdf2c-534c-4e6c-9652-86422f5a8684",
   "metadata": {},
   "outputs": [
    {
     "data": {
      "text/html": [
       "<div id=\"glowscript\" class=\"glowscript\"></div>"
      ],
      "text/plain": [
       "<IPython.core.display.HTML object>"
      ]
     },
     "metadata": {},
     "output_type": "display_data"
    },
    {
     "data": {
      "application/javascript": [
       "if (typeof Jupyter !== \"undefined\") { window.__context = { glowscript_container: $(\"#glowscript\").removeAttr(\"id\")};}else{ element.textContent = ' ';}"
      ],
      "text/plain": [
       "<IPython.core.display.Javascript object>"
      ]
     },
     "metadata": {},
     "output_type": "display_data"
    }
   ],
   "source": [
    "scene = canvas(width=700, height=500)\n",
    "scene.camera.pos = vector(-6, 6, -6.5)\n",
    "scene.camera.axis = vector(6, -6, 6.5)\n",
    "\n",
    "\n",
    "plane = box(pos=vector(0, -1.15, 0), size=vector(10, 0.02, 10), color=color.blue)\n",
    "plane.rotate(angle=+theta_rad, axis=vector(0, 0, 1), origin=plane.pos)\n",
    "\n",
    "\n",
    "cil = cylinder(pos=vector(0, 0, -1), axis=vector(0, 0, 1), radius=R, length=1, color=color.red)\n",
    "\n",
    "eje_x = curve(vector(-5, 0, 0), vector(5, 0, 0), color=color.red)  \n",
    "eje_y = curve(vector(0, -5, 0), vector(0, 5, 0), color=color.green)  \n",
    "eje_z = curve(vector(0, 0, -5), vector(0, 0, 5), color=color.blue)  \n",
    "\n",
    "flecha_x = arrow(pos=vector(4.8, 0, 0), axis=vector(0.5, 0, 0), color=color.red)\n",
    "flecha_y = arrow(pos=vector(0, 4.8, 0), axis=vector(0, 0.5, 0), color=color.green)\n",
    "flecha_z = arrow(pos=vector(0, 0, 4.8), axis=vector(0, 0, 0.5), color=color.blue)\n",
    "\n",
    "\n",
    "label(pos=vector(5.2, 0, 0), text=\"X\", box=False, height=15, color=color.red)\n",
    "label(pos=vector(0, 5.2, 0), text=\"Y\", box=False, height=15, color=color.green)\n",
    "label(pos=vector(0, 0, 5.2), text=\"Z\", box=False, height=15, color=color.blue)\n",
    "\n",
    "\n",
    "\n",
    "eje_x.rotate(angle=theta_rad, axis=vector(0, 0, 1), origin=vector(0, 0, 0))\n",
    "eje_y.rotate(angle=theta_rad, axis=vector(0, 0, 1), origin=vector(0, 0, 0))\n",
    "flecha_x.rotate(angle=theta_rad, axis=vector(0, 0, 1), origin=vector(0, 0, 0))\n",
    "flecha_y.rotate(angle=theta_rad, axis=vector(0, 0, 1), origin=vector(0, 0, 0))\n",
    "\n",
    "x_vals = solucion[:, 0]\n",
    "phi_vals = solucion[:, 2]\n",
    "\n",
    "for i in range(len(t_values)):\n",
    "    rate(10)  \n",
    "    x = x_vals[i]\n",
    "    phi = phi_vals[i]\n",
    "\n",
    "    cil.pos = vector(x, x * np.tan(theta_rad), 0)\n",
    "    cil.rotate(angle=phi_vals[i] - phi_vals[i-1], axis=vector(0, 0, 1))\n",
    "    "
   ]
  },
  {
   "cell_type": "code",
   "execution_count": null,
   "id": "8ae25c8f-204e-40a5-8f8b-239e9d877c4b",
   "metadata": {},
   "outputs": [],
   "source": []
  },
  {
   "cell_type": "code",
   "execution_count": null,
   "id": "f1ff6f32-4944-4f8c-bdd0-b13136923ab5",
   "metadata": {},
   "outputs": [],
   "source": [
    "\n"
   ]
  }
 ],
 "metadata": {
  "kernelspec": {
   "display_name": "Python 3 (ipykernel)",
   "language": "python",
   "name": "python3"
  },
  "language_info": {
   "codemirror_mode": {
    "name": "ipython",
    "version": 3
   },
   "file_extension": ".py",
   "mimetype": "text/x-python",
   "name": "python",
   "nbconvert_exporter": "python",
   "pygments_lexer": "ipython3",
   "version": "3.12.4"
  }
 },
 "nbformat": 4,
 "nbformat_minor": 5
}
