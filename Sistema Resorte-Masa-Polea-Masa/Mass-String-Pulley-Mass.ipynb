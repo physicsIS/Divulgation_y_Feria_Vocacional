{
 "cells": [
  {
   "cell_type": "code",
   "execution_count": 1,
   "id": "e1a28db8",
   "metadata": {
    "scrolled": false
   },
   "outputs": [
    {
     "data": {
      "text/html": [
       "\n",
       "        <iframe\n",
       "            width=\"800\"\n",
       "            height=\"600\"\n",
       "            src=\"mass_string_pulley_mass.pdf\"\n",
       "            frameborder=\"0\"\n",
       "            allowfullscreen\n",
       "            \n",
       "        ></iframe>\n",
       "        "
      ],
      "text/plain": [
       "<IPython.lib.display.IFrame at 0x7b0cbc0df430>"
      ]
     },
     "execution_count": 1,
     "metadata": {},
     "output_type": "execute_result"
    }
   ],
   "source": [
    "from IPython.display import IFrame\n",
    "\n",
    "# Reemplaza 'ruta_al_pdf.pdf' con la ruta al archivo PDF\n",
    "IFrame(\"mass_string_pulley_mass.pdf\", width=800, height=600)"
   ]
  },
  {
   "cell_type": "code",
   "execution_count": 2,
   "id": "4baa4004",
   "metadata": {},
   "outputs": [
    {
     "data": {
      "text/html": [
       "<div id=\"glowscript\" class=\"glowscript\"></div>"
      ],
      "text/plain": [
       "<IPython.core.display.HTML object>"
      ]
     },
     "metadata": {},
     "output_type": "display_data"
    },
    {
     "data": {
      "application/javascript": "if (typeof Jupyter !== \"undefined\") { window.__context = { glowscript_container: $(\"#glowscript\").removeAttr(\"id\")};}else{ element.textContent = ' ';}",
      "text/plain": [
       "<IPython.core.display.Javascript object>"
      ]
     },
     "metadata": {},
     "output_type": "display_data"
    },
    {
     "data": {
      "text/html": [
       "<div id=\"glowscript\" class=\"glowscript\"></div>"
      ],
      "text/plain": [
       "<IPython.core.display.HTML object>"
      ]
     },
     "metadata": {},
     "output_type": "display_data"
    },
    {
     "data": {
      "application/javascript": "if (typeof Jupyter !== \"undefined\") { window.__context = { glowscript_container: $(\"#glowscript\").removeAttr(\"id\")};}else{ element.textContent = ' ';}",
      "text/plain": [
       "<IPython.core.display.Javascript object>"
      ]
     },
     "metadata": {},
     "output_type": "display_data"
    },
    {
     "ename": "AttributeError",
     "evalue": "module 'notebook' has no attribute 'nbextensions'",
     "output_type": "error",
     "traceback": [
      "\u001b[0;31m---------------------------------------------------------------------------\u001b[0m",
      "\u001b[0;31mAttributeError\u001b[0m                            Traceback (most recent call last)",
      "Cell \u001b[0;32mIn[2], line 18\u001b[0m\n\u001b[1;32m     16\u001b[0m scene \u001b[38;5;241m=\u001b[39m canvas(title\u001b[38;5;241m=\u001b[39m\u001b[38;5;124m'\u001b[39m\u001b[38;5;124mSistema Masa-Resorte-Polea\u001b[39m\u001b[38;5;124m'\u001b[39m, width\u001b[38;5;241m=\u001b[39m\u001b[38;5;241m800\u001b[39m, height\u001b[38;5;241m=\u001b[39m\u001b[38;5;241m600\u001b[39m)\n\u001b[1;32m     17\u001b[0m \u001b[38;5;66;03m# Crear el suelo\u001b[39;00m\n\u001b[0;32m---> 18\u001b[0m ground \u001b[38;5;241m=\u001b[39m \u001b[43mbox\u001b[49m\u001b[43m(\u001b[49m\u001b[43mpos\u001b[49m\u001b[38;5;241;43m=\u001b[39;49m\u001b[43mvector\u001b[49m\u001b[43m(\u001b[49m\u001b[38;5;241;43m0\u001b[39;49m\u001b[43m,\u001b[49m\u001b[43m \u001b[49m\u001b[38;5;241;43m-\u001b[39;49m\u001b[38;5;241;43m0.5\u001b[39;49m\u001b[43m,\u001b[49m\u001b[43m \u001b[49m\u001b[38;5;241;43m0\u001b[39;49m\u001b[43m)\u001b[49m\u001b[43m,\u001b[49m\u001b[43m \u001b[49m\u001b[43msize\u001b[49m\u001b[38;5;241;43m=\u001b[39;49m\u001b[43mvector\u001b[49m\u001b[43m(\u001b[49m\u001b[38;5;241;43m10\u001b[39;49m\u001b[43m,\u001b[49m\u001b[43m \u001b[49m\u001b[38;5;241;43m0.1\u001b[39;49m\u001b[43m,\u001b[49m\u001b[43m \u001b[49m\u001b[38;5;241;43m10\u001b[39;49m\u001b[43m)\u001b[49m\u001b[43m,\u001b[49m\u001b[43m \u001b[49m\u001b[43mcolor\u001b[49m\u001b[38;5;241;43m=\u001b[39;49m\u001b[43mcolor\u001b[49m\u001b[38;5;241;43m.\u001b[39;49m\u001b[43mgreen\u001b[49m\u001b[43m)\u001b[49m\n\u001b[1;32m     19\u001b[0m \u001b[38;5;66;03m# Crear el resorte\u001b[39;00m\n\u001b[1;32m     20\u001b[0m spring \u001b[38;5;241m=\u001b[39m helix(pos\u001b[38;5;241m=\u001b[39mvector(\u001b[38;5;241m0\u001b[39m, \u001b[38;5;241m0\u001b[39m, \u001b[38;5;241m0\u001b[39m), axis\u001b[38;5;241m=\u001b[39mvector(\u001b[38;5;241m0\u001b[39m, \u001b[38;5;241m1\u001b[39m, \u001b[38;5;241m0\u001b[39m), radius\u001b[38;5;241m=\u001b[39m\u001b[38;5;241m0.5\u001b[39m, coils\u001b[38;5;241m=\u001b[39m\u001b[38;5;241m10\u001b[39m, thickness\u001b[38;5;241m=\u001b[39m\u001b[38;5;241m0.1\u001b[39m, color\u001b[38;5;241m=\u001b[39mcolor\u001b[38;5;241m.\u001b[39mblue)\n",
      "File \u001b[0;32m~/anaconda3/envs/vpython/lib/python3.10/site-packages/vpython/vpython.py:1147\u001b[0m, in \u001b[0;36mbox.__init__\u001b[0;34m(self, **args)\u001b[0m\n\u001b[1;32m   1145\u001b[0m args[\u001b[38;5;124m'\u001b[39m\u001b[38;5;124m_default_size\u001b[39m\u001b[38;5;124m'\u001b[39m] \u001b[38;5;241m=\u001b[39m vector(\u001b[38;5;241m1\u001b[39m,\u001b[38;5;241m1\u001b[39m,\u001b[38;5;241m1\u001b[39m)\n\u001b[1;32m   1146\u001b[0m args[\u001b[38;5;124m'\u001b[39m\u001b[38;5;124m_objName\u001b[39m\u001b[38;5;124m'\u001b[39m] \u001b[38;5;241m=\u001b[39m \u001b[38;5;124m\"\u001b[39m\u001b[38;5;124mbox\u001b[39m\u001b[38;5;124m\"\u001b[39m\n\u001b[0;32m-> 1147\u001b[0m \u001b[38;5;28;43msuper\u001b[39;49m\u001b[43m(\u001b[49m\u001b[43mbox\u001b[49m\u001b[43m,\u001b[49m\u001b[43m \u001b[49m\u001b[38;5;28;43mself\u001b[39;49m\u001b[43m)\u001b[49m\u001b[38;5;241;43m.\u001b[39;49m\u001b[43msetup\u001b[49m\u001b[43m(\u001b[49m\u001b[43margs\u001b[49m\u001b[43m)\u001b[49m\n",
      "File \u001b[0;32m~/anaconda3/envs/vpython/lib/python3.10/site-packages/vpython/vpython.py:580\u001b[0m, in \u001b[0;36mstandardAttributes.setup\u001b[0;34m(self, args)\u001b[0m\n\u001b[1;32m    579\u001b[0m \u001b[38;5;28;01mdef\u001b[39;00m \u001b[38;5;21msetup\u001b[39m(\u001b[38;5;28mself\u001b[39m, args):\n\u001b[0;32m--> 580\u001b[0m     \u001b[38;5;28;43msuper\u001b[39;49m\u001b[43m(\u001b[49m\u001b[43mstandardAttributes\u001b[49m\u001b[43m,\u001b[49m\u001b[43m \u001b[49m\u001b[38;5;28;43mself\u001b[39;49m\u001b[43m)\u001b[49m\u001b[38;5;241;43m.\u001b[39;49m\u001b[38;5;21;43m__init__\u001b[39;49m\u001b[43m(\u001b[49m\u001b[43m)\u001b[49m\n\u001b[1;32m    581\u001b[0m     \u001b[38;5;28mself\u001b[39m\u001b[38;5;241m.\u001b[39m_constructing \u001b[38;5;241m=\u001b[39m \u001b[38;5;28;01mTrue\u001b[39;00m  \u001b[38;5;66;03m## calls to setters are from constructor\u001b[39;00m\n\u001b[1;32m    583\u001b[0m     objName \u001b[38;5;241m=\u001b[39m \u001b[38;5;28mself\u001b[39m\u001b[38;5;241m.\u001b[39m_objName \u001b[38;5;241m=\u001b[39m args[\u001b[38;5;124m'\u001b[39m\u001b[38;5;124m_objName\u001b[39m\u001b[38;5;124m'\u001b[39m]  \u001b[38;5;66;03m## identifies object type\u001b[39;00m\n",
      "File \u001b[0;32m~/anaconda3/envs/vpython/lib/python3.10/site-packages/vpython/vpython.py:239\u001b[0m, in \u001b[0;36mbaseObj.__init__\u001b[0;34m(self, **kwargs)\u001b[0m\n\u001b[1;32m    236\u001b[0m \u001b[38;5;28;01mif\u001b[39;00m \u001b[38;5;129;01mnot\u001b[39;00m (baseObj\u001b[38;5;241m.\u001b[39m_view_constructed \u001b[38;5;129;01mor\u001b[39;00m\n\u001b[1;32m    237\u001b[0m         baseObj\u001b[38;5;241m.\u001b[39m_canvas_constructing):\n\u001b[1;32m    238\u001b[0m     \u001b[38;5;28;01mif\u001b[39;00m _isnotebook:\n\u001b[0;32m--> 239\u001b[0m         \u001b[38;5;28;01mfrom\u001b[39;00m \u001b[38;5;21;01m.\u001b[39;00m\u001b[38;5;21;01mwith_notebook\u001b[39;00m \u001b[38;5;28;01mimport\u001b[39;00m _\n\u001b[1;32m    240\u001b[0m     \u001b[38;5;28;01melse\u001b[39;00m:\n\u001b[1;32m    241\u001b[0m         \u001b[38;5;28;01mfrom\u001b[39;00m \u001b[38;5;21;01m.\u001b[39;00m\u001b[38;5;21;01mno_notebook\u001b[39;00m \u001b[38;5;28;01mimport\u001b[39;00m _\n",
      "File \u001b[0;32m~/anaconda3/envs/vpython/lib/python3.10/site-packages/vpython/with_notebook.py:80\u001b[0m\n\u001b[1;32m     77\u001b[0m         transfer \u001b[38;5;241m=\u001b[39m (v \u001b[38;5;241m!=\u001b[39m __version__) \u001b[38;5;66;03m# need not transfer files to nbextensions if correct version's files already there\u001b[39;00m\n\u001b[1;32m     79\u001b[0m \u001b[38;5;28;01mif\u001b[39;00m transfer:\n\u001b[0;32m---> 80\u001b[0m     \u001b[43mnotebook\u001b[49m\u001b[38;5;241;43m.\u001b[39;49m\u001b[43mnbextensions\u001b[49m\u001b[38;5;241m.\u001b[39minstall_nbextension(path \u001b[38;5;241m=\u001b[39m package_dir\u001b[38;5;241m+\u001b[39m\u001b[38;5;124m\"\u001b[39m\u001b[38;5;124m/vpython_data\u001b[39m\u001b[38;5;124m\"\u001b[39m,overwrite \u001b[38;5;241m=\u001b[39m \u001b[38;5;28;01mTrue\u001b[39;00m,user \u001b[38;5;241m=\u001b[39m \u001b[38;5;28;01mTrue\u001b[39;00m,verbose \u001b[38;5;241m=\u001b[39m \u001b[38;5;241m0\u001b[39m)\n\u001b[1;32m     81\u001b[0m     notebook\u001b[38;5;241m.\u001b[39mnbextensions\u001b[38;5;241m.\u001b[39minstall_nbextension(path \u001b[38;5;241m=\u001b[39m package_dir\u001b[38;5;241m+\u001b[39m\u001b[38;5;124m\"\u001b[39m\u001b[38;5;124m/vpython_libraries\u001b[39m\u001b[38;5;124m\"\u001b[39m,overwrite \u001b[38;5;241m=\u001b[39m \u001b[38;5;28;01mTrue\u001b[39;00m,user \u001b[38;5;241m=\u001b[39m \u001b[38;5;28;01mTrue\u001b[39;00m,verbose \u001b[38;5;241m=\u001b[39m \u001b[38;5;241m0\u001b[39m)\n\u001b[1;32m     83\u001b[0m     \u001b[38;5;66;03m# Wait for files to be transferred to nbextensions:\u001b[39;00m\n",
      "\u001b[0;31mAttributeError\u001b[0m: module 'notebook' has no attribute 'nbextensions'"
     ]
    }
   ],
   "source": [
    "from vpython import *\n",
    "import numpy as np\n",
    "\n",
    "# Constantes del sistema\n",
    "M1 = 1.0  # Masa del bloque 1\n",
    "M2 = 3.0  # Masa del bloque 2\n",
    "MP = 1.0  # Masa de la polea\n",
    "k = 10.0  # Constante del resorte\n",
    "g = 9.81  # Aceleración debido a la gravedad\n",
    "\n",
    "# Parámetros de la ecuación de desplazamiento\n",
    "alpha = (M2 * g - M1 * g) / (M1 + M2 + MP/2)\n",
    "beta = k / (M1 + M2 + MP/2)\n",
    "\n",
    "# Crear la escena\n",
    "scene = canvas(title='Sistema Masa-Resorte-Polea', width=800, height=600)\n",
    "# Crear el suelo\n",
    "ground = box(pos=vector(0, -0.5, 0), size=vector(10, 0.1, 10), color=color.green)\n",
    "# Crear el resorte\n",
    "spring = helix(pos=vector(0, 0, 0), axis=vector(0, 1, 0), radius=0.5, coils=10, thickness=0.1, color=color.blue)\n",
    "# Crear el bloque M1\n",
    "block1 = box(pos=vector(0, spring.axis.y, 0), size=vector(1, 1, 1), color=color.red, mass=M1)\n",
    "# Crear la polea\n",
    "pulley = cylinder(pos=vector(0, 5, 0), axis=vector(0, 0, 1), radius=1, color=color.orange)\n",
    "# Crear el bloque M2\n",
    "block2 = box(pos=vector(0, pulley.pos.y - 2, 0), size=vector(1, 1, 1), color=color.yellow, mass=M2)\n",
    "# Crear la cuerda\n",
    "rope = curve(color=color.white, radius=0.05)\n",
    "\n",
    "def displacement(t):\n",
    "    return (alpha / beta) * (1 - np.cos(np.sqrt(beta) * t))\n",
    "\n",
    "# Configurar el tiempo\n",
    "t = 0\n",
    "dt = 0.01\n",
    "\n",
    "# Bucle de simulación\n",
    "while t < 30:  # Simular durante 10 segundos\n",
    "    rate(100)  # Controlar la velocidad de la simulación\n",
    "    # Calcular el desplazamiento\n",
    "    y = displacement(t)\n",
    "    # Actualizar la posición del bloque M1\n",
    "    block1.pos.y = y\n",
    "    # Actualizar la posición del bloque M2\n",
    "    block2.pos.y = pulley.pos.y - (y + 2)\n",
    "    # Actualizar la cuerda\n",
    "    rope.clear()\n",
    "    rope.append(pos=block1.pos)\n",
    "    rope.append(pos=pulley.pos)\n",
    "    rope.append(pos=block2.pos)\n",
    "    # Actualizar el tiempo\n",
    "    t += dt"
   ]
  },
  {
   "cell_type": "code",
   "execution_count": null,
   "id": "69c04277",
   "metadata": {},
   "outputs": [],
   "source": []
  }
 ],
 "metadata": {
  "kernelspec": {
   "display_name": "vpython",
   "language": "python",
   "name": "python3"
  },
  "language_info": {
   "codemirror_mode": {
    "name": "ipython",
    "version": 3
   },
   "file_extension": ".py",
   "mimetype": "text/x-python",
   "name": "python",
   "nbconvert_exporter": "python",
   "pygments_lexer": "ipython3",
   "version": "3.10.15"
  }
 },
 "nbformat": 4,
 "nbformat_minor": 5
}
