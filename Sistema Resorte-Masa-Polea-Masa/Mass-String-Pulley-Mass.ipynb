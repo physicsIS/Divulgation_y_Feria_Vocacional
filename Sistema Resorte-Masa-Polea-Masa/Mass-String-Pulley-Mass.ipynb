{
 "cells": [
  {
   "cell_type": "code",
   "execution_count": 1,
   "id": "e1a28db8",
   "metadata": {
    "scrolled": false
   },
   "outputs": [
    {
     "data": {
      "text/html": [
       "\n",
       "        <iframe\n",
       "            width=\"800\"\n",
       "            height=\"600\"\n",
       "            src=\"mass_string_pulley_mass.pdf\"\n",
       "            frameborder=\"0\"\n",
       "            allowfullscreen\n",
       "            \n",
       "        ></iframe>\n",
       "        "
      ],
      "text/plain": [
       "<IPython.lib.display.IFrame at 0x75a8c9df7aa0>"
      ]
     },
     "execution_count": 1,
     "metadata": {},
     "output_type": "execute_result"
    }
   ],
   "source": [
    "from IPython.display import IFrame\n",
    "\n",
    "# Reemplaza 'ruta_al_pdf.pdf' con la ruta al archivo PDF\n",
    "IFrame(\"mass_string_pulley_mass.pdf\", width=800, height=600)"
   ]
  },
  {
   "cell_type": "code",
   "execution_count": 2,
   "id": "4baa4004",
   "metadata": {},
   "outputs": [
    {
     "ename": "ModuleNotFoundError",
     "evalue": "No module named 'vpython'",
     "output_type": "error",
     "traceback": [
      "\u001b[0;31m---------------------------------------------------------------------------\u001b[0m",
      "\u001b[0;31mModuleNotFoundError\u001b[0m                       Traceback (most recent call last)",
      "Cell \u001b[0;32mIn[2], line 1\u001b[0m\n\u001b[0;32m----> 1\u001b[0m \u001b[38;5;28;01mfrom\u001b[39;00m \u001b[38;5;21;01mvpython\u001b[39;00m \u001b[38;5;28;01mimport\u001b[39;00m \u001b[38;5;241m*\u001b[39m\n\u001b[1;32m      2\u001b[0m \u001b[38;5;28;01mimport\u001b[39;00m \u001b[38;5;21;01mnumpy\u001b[39;00m \u001b[38;5;28;01mas\u001b[39;00m \u001b[38;5;21;01mnp\u001b[39;00m\n\u001b[1;32m      4\u001b[0m \u001b[38;5;66;03m# Constantes del sistema\u001b[39;00m\n",
      "\u001b[0;31mModuleNotFoundError\u001b[0m: No module named 'vpython'"
     ]
    }
   ],
   "source": [
    "from vpython import *\n",
    "import numpy as np\n",
    "\n",
    "# Constantes del sistema\n",
    "M1 = 1.0  # Masa del bloque 1\n",
    "M2 = 3.0  # Masa del bloque 2\n",
    "MP = 1.0  # Masa de la polea\n",
    "k = 10.0  # Constante del resorte\n",
    "g = 9.81  # Aceleración debido a la gravedad\n",
    "\n",
    "# Parámetros de la ecuación de desplazamiento\n",
    "alpha = (M2 * g - M1 * g) / (M1 + M2 + MP/2)\n",
    "beta = k / (M1 + M2 + MP/2)\n",
    "\n",
    "# Crear la escena\n",
    "scene = canvas(title='Sistema Masa-Resorte-Polea', width=800, height=600)\n",
    "# Crear el suelo\n",
    "ground = box(pos=vector(0, -0.5, 0), size=vector(10, 0.1, 10), color=color.green)\n",
    "# Crear el resorte\n",
    "spring = helix(pos=vector(0, 0, 0), axis=vector(0, 1, 0), radius=0.5, coils=10, thickness=0.1, color=color.blue)\n",
    "# Crear el bloque M1\n",
    "block1 = box(pos=vector(0, spring.axis.y, 0), size=vector(1, 1, 1), color=color.red, mass=M1)\n",
    "# Crear la polea\n",
    "pulley = cylinder(pos=vector(0, 5, 0), axis=vector(0, 0, 1), radius=1, color=color.orange)\n",
    "# Crear el bloque M2\n",
    "block2 = box(pos=vector(0, pulley.pos.y - 2, 0), size=vector(1, 1, 1), color=color.yellow, mass=M2)\n",
    "# Crear la cuerda\n",
    "rope = curve(color=color.white, radius=0.05)\n",
    "\n",
    "def displacement(t):\n",
    "    return (alpha / beta) * (1 - np.cos(np.sqrt(beta) * t))\n",
    "\n",
    "# Configurar el tiempo\n",
    "t = 0\n",
    "dt = 0.01\n",
    "\n",
    "# Bucle de simulación\n",
    "while t < 30:  # Simular durante 10 segundos\n",
    "    rate(100)  # Controlar la velocidad de la simulación\n",
    "    # Calcular el desplazamiento\n",
    "    y = displacement(t)\n",
    "    # Actualizar la posición del bloque M1\n",
    "    block1.pos.y = y\n",
    "    # Actualizar la posición del bloque M2\n",
    "    block2.pos.y = pulley.pos.y - (y + 2)\n",
    "    # Actualizar la cuerda\n",
    "    rope.clear()\n",
    "    rope.append(pos=block1.pos)\n",
    "    rope.append(pos=pulley.pos)\n",
    "    rope.append(pos=block2.pos)\n",
    "    # Actualizar el tiempo\n",
    "    t += dt"
   ]
  },
  {
   "cell_type": "code",
   "execution_count": null,
   "id": "69c04277",
   "metadata": {},
   "outputs": [],
   "source": []
  }
 ],
 "metadata": {
  "kernelspec": {
   "display_name": "Python 3 (ipykernel)",
   "language": "python",
   "name": "python3"
  },
  "language_info": {
   "codemirror_mode": {
    "name": "ipython",
    "version": 3
   },
   "file_extension": ".py",
   "mimetype": "text/x-python",
   "name": "python",
   "nbconvert_exporter": "python",
   "pygments_lexer": "ipython3",
   "version": "3.12.3"
  }
 },
 "nbformat": 4,
 "nbformat_minor": 5
}
